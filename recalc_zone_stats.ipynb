{
 "cells": [
  {
   "cell_type": "code",
   "execution_count": 12,
   "id": "03319006-3d54-45dd-8dc4-6ef4af481349",
   "metadata": {},
   "outputs": [],
   "source": [
    "import os\n",
    "import tempfile\n",
    "from urllib.parse import urlparse\n",
    "\n",
    "import geopandas as gpd\n",
    "import matplotlib.pyplot as plt\n",
    "# import planetary_computer\n",
    "# import pystac\n",
    "import torch\n",
    "from torch.utils.data import DataLoader\n",
    "from torchgeo.datasets import RasterDataset, stack_samples, unbind_samples\n",
    "from torchgeo.datasets.utils import download_url\n",
    "from torchgeo.samplers import RandomGeoSampler, GridGeoSampler\n",
    "\n",
    "from rasterio.transform import from_bounds\n",
    "\n",
    "%matplotlib inline\n",
    "plt.rcParams[\"figure.figsize\"] = (12, 12)"
   ]
  },
  {
   "cell_type": "code",
   "execution_count": 2,
   "id": "6d463aca",
   "metadata": {},
   "outputs": [],
   "source": [
    "class Skysat(RasterDataset):\n",
    "    filename_glob = \"*.tif\"\n",
    "    filename_regex = r\"()\"\n",
    "    date_format = \"%Y%m%d\"\n",
    "    is_image = True\n",
    "    separate_files = True\n",
    "    all_bands = [\"red\", \"green\", \"blue\"]\n",
    "    rgb_bands = [\"red\", \"green\", \"blue\"]\n",
    "    \n",
    "    def __getitem__(self, index):\n",
    "        sample_dict = super().__getitem__(index)\n",
    "\n",
    "        # Convert image to tensor here, so that we can handle the bands\n",
    "        # Compute the affine transform for this image\n",
    "        image = sample_dict['image']\n",
    "\n",
    "        transform = self.get_transform(sample_dict[\"bounds\"], image.shape[1], image.shape[2])\n",
    "        sample_dict[\"transform\"] = transform\n",
    "        return sample_dict\n",
    "\n",
    "    def get_transform(self, bounds, height, width):\n",
    "        # Convert a BoundingBox in pixel coordinates to an affine transform\n",
    "        left, top, right, bottom = bounds.minx, bounds.maxy, bounds.maxx, bounds.miny\n",
    "        return from_bounds(left, bottom, right, top, width, height)\n",
    "    \n",
    "    def plot(self, sample):\n",
    "#         print(sample)\n",
    "        # Find the correct band index order\n",
    "        rgb_indices = []\n",
    "        for band in self.rgb_bands:\n",
    "            rgb_indices.append(self.all_bands.index(band))\n",
    "\n",
    "        # Reorder and rescale the image\n",
    "        image = sample[\"image\"][rgb_indices].permute(1, 2, 0).numpy().astype(int)\n",
    "#         image = torch.clamp(image / 10000, min=0, max=1).numpy()\n",
    "#         print(image)\n",
    "        # Plot the image\n",
    "        fig, ax = plt.subplots()\n",
    "        ax.imshow(image)\n",
    "\n",
    "        return fig"
   ]
  },
  {
   "cell_type": "code",
   "execution_count": 32,
   "id": "8afdcb2e-0d7c-4a59-ae08-ea56bef99a45",
   "metadata": {
    "scrolled": true
   },
   "outputs": [
    {
     "name": "stdout",
     "output_type": "stream",
     "text": [
      "Skysat Dataset\n",
      "    type: GeoDataset\n",
      "    bbox: BoundingBox(minx=-124.13750190128431, maxx=-114.19532113749236, miny=32.80281803283856, maxy=41.93959626234747, mint=0.0, maxt=9.223372036854776e+18)\n",
      "    size: 89\n"
     ]
    }
   ],
   "source": [
    "dataset = Skysat('./tifs_done/')\n",
    "print(dataset)"
   ]
  },
  {
   "cell_type": "code",
   "execution_count": 13,
   "metadata": {},
   "outputs": [],
   "source": [
    "cali = './ca_state/CA_State.shp'\n",
    "cali_borders = gpd.read_file(cali).to_crs(4269)\n",
    "\n",
    "shp_file = './phzm_us_zones_shp_2023/phzm_us_zones_shp_2023.shp'\n",
    "data = gpd.read_file(shp_file)\n",
    "\n",
    "intersection = data.overlay(cali_borders).to_crs(4326)"
   ]
  },
  {
   "cell_type": "code",
   "execution_count": 29,
   "metadata": {},
   "outputs": [],
   "source": [
    "def get_region(shape, key, point):\n",
    "    for row_id, row in shape.iterrows():\n",
    "        if row['geometry'].intersects(point):\n",
    "            return row[key]\n",
    "        \n",
    "    return 'unknown'"
   ]
  },
  {
   "cell_type": "code",
   "execution_count": 33,
   "id": "5ca45a56",
   "metadata": {},
   "outputs": [
    {
     "name": "stdout",
     "output_type": "stream",
     "text": [
      "10775\n",
      "{'10a': 1152, '10b': 885, '11a': 20, '6a': 1082, '6b': 1079, '5b': 24, '7a': 1204, '7b': 970, '8a': 1115, '8b': 1042, '9a': 1080, '9b': 1122}\n"
     ]
    }
   ],
   "source": [
    "from PIL import Image\n",
    "import torch\n",
    "import random\n",
    "import string\n",
    "import rasterio\n",
    "from shapely import Point\n",
    "\n",
    "torch.manual_seed(3)\n",
    "sampler = GridGeoSampler(dataset, size=400, stride=400)\n",
    "dataloader = DataLoader(dataset, sampler=sampler, collate_fn=stack_samples)\n",
    "c = 0\n",
    "zones = {}\n",
    "for i, batch in enumerate(dataloader):\n",
    "    unbinded = unbind_samples(batch)\n",
    "    sample = unbinded[0]\n",
    "    im = sample['image']\n",
    "    numpixels = im.shape[0] * im.shape[1] * im.shape[2]\n",
    "    numzero = (im == 0).sum().item()\n",
    "    ratio = numzero / numpixels\n",
    "    if ratio < 0.2:\n",
    "        c += 1\n",
    "        bds = sample['bounds']\n",
    "        pt = Point((bds[0] + bds[1]) / 2, (bds[2] + bds[3]) / 2)\n",
    "        zone = get_region(intersection, 'zone', pt)\n",
    "        if zone not in zones:\n",
    "            zones[zone] = 0\n",
    "        zones[zone] += 1\n",
    "\n",
    "print(c)\n",
    "print(zones)"
   ]
  },
  {
   "cell_type": "code",
   "execution_count": 44,
   "metadata": {},
   "outputs": [
    {
     "name": "stdout",
     "output_type": "stream",
     "text": [
      "Skysat Dataset\n",
      "    type: GeoDataset\n",
      "    bbox: BoundingBox(minx=433875.0, maxx=875573.6321397871, miny=1361800.0, maxy=1729841.5, mint=0.0, maxt=9.223372036854776e+18)\n",
      "    size: 141\n"
     ]
    }
   ],
   "source": [
    "dataset = Skysat('./NUTMGS/filtered_tifs_for_labeling/')\n",
    "print(dataset)\n",
    "\n",
    "shp_file = './karnataka_footprints/DISTRICT_BOUNDARY.shp'\n",
    "data = gpd.read_file(shp_file).to_crs(32643)\n",
    "data = data[data['STATE'] == 'KARN>TAKA']"
   ]
  },
  {
   "cell_type": "code",
   "execution_count": 46,
   "metadata": {},
   "outputs": [
    {
     "name": "stdout",
     "output_type": "stream",
     "text": [
      "8540\n",
      "{'SHIVAMOGGA': 721, 'UTTARA  KANNADA': 178, 'D>VANGERE': 1260, 'CHITRADURGA': 299, 'BALL>RI': 661, 'DH>RWAD': 414, 'GADAG': 588, 'KOPPAL': 559, 'R>ICH@R': 324, 'KODAGU': 48, 'MANDYA': 419, 'R>MANAGARAM': 411, 'DAKSHINA  KANNADA': 443, 'HASSAN': 543, 'KOLAR': 247, 'BENGAL@RU RURAL': 35, 'UDUPI': 474, 'TUMAK@RU': 323, 'CHIK BALL>PUR': 593}\n"
     ]
    }
   ],
   "source": [
    "from PIL import Image\n",
    "import torch\n",
    "import random\n",
    "import string\n",
    "import rasterio\n",
    "from shapely import Point\n",
    "\n",
    "torch.manual_seed(3)\n",
    "sampler = GridGeoSampler(dataset, size=400, stride=400)\n",
    "dataloader = DataLoader(dataset, sampler=sampler, collate_fn=stack_samples)\n",
    "c = 0\n",
    "zones = {}\n",
    "for i, batch in enumerate(dataloader):\n",
    "    unbinded = unbind_samples(batch)\n",
    "    sample = unbinded[0]\n",
    "    im = sample['image']\n",
    "    numpixels = im.shape[0] * im.shape[1] * im.shape[2]\n",
    "    numzero = (im == 0).sum().item()\n",
    "    ratio = numzero / numpixels\n",
    "    if ratio < 0.2:\n",
    "        c += 1\n",
    "        bds = sample['bounds']\n",
    "        pt = Point((bds[0] + bds[1]) / 2, (bds[2] + bds[3]) / 2)\n",
    "        zone = get_region(data, 'District', pt)\n",
    "        if zone not in zones:\n",
    "            zones[zone] = 0\n",
    "        zones[zone] += 1\n",
    "\n",
    "print(c)\n",
    "print(zones)"
   ]
  },
  {
   "cell_type": "code",
   "execution_count": 48,
   "metadata": {},
   "outputs": [
    {
     "name": "stdout",
     "output_type": "stream",
     "text": [
      "10\n",
      "{'NORTH EAST TRANSITION': 0, 'SOUTHERN TRANSITION': 1264, 'HILL': 178, 'CENTRAL DRY': 1882, 'NORTH EAST DRY': 1544, 'WESTERN TRANSITION': 414, 'NORTHERN DRY': 588, 'SOUTHERN DRY': 467, 'EASTERN DRY': 1286, 'COASTAL': 917}\n"
     ]
    }
   ],
   "source": [
    "district_to_zone = {\n",
    "    'SHIVAMOGGA': 'SOUTHERN TRANSITION', \n",
    "    'UTTARA  KANNADA': 'HILL', \n",
    "    'D>VANGERE': 'CENTRAL DRY', \n",
    "    'CHITRADURGA': 'CENTRAL DRY', \n",
    "    'BALL>RI': 'NORTH EAST DRY', \n",
    "    'DH>RWAD': 'WESTERN TRANSITION', \n",
    "    'GADAG': 'NORTHERN DRY', \n",
    "    'KOPPAL': 'NORTH EAST DRY', \n",
    "    'R>ICH@R': 'NORTH EAST DRY', \n",
    "    'KODAGU': 'SOUTHERN DRY', \n",
    "    'MANDYA': 'SOUTHERN DRY', \n",
    "    'R>MANAGARAM': 'EASTERN DRY', \n",
    "    'DAKSHINA  KANNADA': 'COASTAL', \n",
    "    'HASSAN': 'SOUTHERN TRANSITION', \n",
    "    'KOLAR': 'EASTERN DRY', \n",
    "    'BENGAL@RU RURAL': 'EASTERN DRY', \n",
    "    'UDUPI': 'COASTAL', \n",
    "    'TUMAK@RU': 'CENTRAL DRY', \n",
    "    'CHIK BALL>PUR': 'EASTERN DRY'\n",
    "}\n",
    "\n",
    "by_zone = {}\n",
    "by_zone['NORTH EAST TRANSITION'] = 0\n",
    "for z in zones:\n",
    "    zone = district_to_zone[z]\n",
    "    if zone not in by_zone:\n",
    "        by_zone[zone] = 0\n",
    "\n",
    "    by_zone[zone] += zones[z]\n",
    "\n",
    "print(len(by_zone))\n",
    "print(by_zone)"
   ]
  },
  {
   "cell_type": "code",
   "execution_count": 53,
   "metadata": {},
   "outputs": [
    {
     "name": "stdout",
     "output_type": "stream",
     "text": [
      "['RajasthanTreesHumidSoutheastern1', 'RajasthanTreesGanganagar2', 'RajasthanTreesJaisalmer2', 'RajasthanTreesTransitionalInlandDrainage4', 'RajasthanTreesTransitionalInlandDrainage3', 'RajasthanTreesFloodProneEastern1', 'RajasthanTreesSubhumidSouthernPlains1', 'RajasthanTreesTransitionalInlandDrainage2', 'RajasthanTreesJodhpur2', 'RajasthanTreesHumidSoutheastern2', 'RajasthanTreesUdaipur', 'RajasthanTreesFloodProneEastern2', 'RajasthanTreesGanganagar1', 'RajasthanTreesJaisalmer1', 'RajasthanTreesSubhumidSouthernPlains2', 'RajasthanTreesTransitionalInlandDrainage1', 'RajasthanTreesJodhpur1']\n"
     ]
    }
   ],
   "source": [
    "dirs = os.listdir('../Treework/filtered_imported_data/')\n",
    "dirs = [dir for dir in dirs if dir.count('RajasthanTrees') > 0]\n",
    "print(dirs)"
   ]
  },
  {
   "cell_type": "code",
   "execution_count": 61,
   "metadata": {},
   "outputs": [
    {
     "name": "stdout",
     "output_type": "stream",
     "text": [
      "9\n",
      "{'TRANSITIONAL PLAIN ZONE OF LUNI BASIN': 0, 'SEMI ARID EASTERN PLAIN': 0, 'SOUTH EASTERN HUMID PLAIN': 220, 'IRRIGATED NORTH WESTERN PLAIN': 295, 'ARID WESTERN PLAIN AND HYPER ARID PARTIAL IRRIGATED': 2076, 'TRANSITIONAL PLAIN ZONE OF ISLAND DRAINAGE': 567, 'FLOOD PRONE EASTERN PLAIN': 311, 'SUB HUMID SOUTHERN PLAIN AND ALLUVIAL HILL': 637, 'SOUTHERN HUMID PLAIN': 91}\n"
     ]
    }
   ],
   "source": [
    "dirs = os.listdir('../Treework/filtered_imported_data/')\n",
    "dirs = [dir for dir in dirs if dir.count('RajasthanTrees') > 0]\n",
    "\n",
    "dir_to_zone = {\n",
    " 'RajasthanTreesHumidSoutheastern1': 'SOUTH EASTERN HUMID PLAIN', \n",
    " 'RajasthanTreesGanganagar2': 'IRRIGATED NORTH WESTERN PLAIN', \n",
    " 'RajasthanTreesJaisalmer2': 'ARID WESTERN PLAIN AND HYPER ARID PARTIAL IRRIGATED', \n",
    " 'RajasthanTreesTransitionalInlandDrainage4': 'TRANSITIONAL PLAIN ZONE OF ISLAND DRAINAGE', \n",
    " 'RajasthanTreesTransitionalInlandDrainage3': 'TRANSITIONAL PLAIN ZONE OF ISLAND DRAINAGE', \n",
    " 'RajasthanTreesFloodProneEastern1': 'FLOOD PRONE EASTERN PLAIN', \n",
    " 'RajasthanTreesSubhumidSouthernPlains1': 'SUB HUMID SOUTHERN PLAIN AND ALLUVIAL HILL', \n",
    " 'RajasthanTreesTransitionalInlandDrainage2': 'TRANSITIONAL PLAIN ZONE OF ISLAND DRAINAGE', \n",
    " 'RajasthanTreesJodhpur2': 'ARID WESTERN PLAIN AND HYPER ARID PARTIAL IRRIGATED', \n",
    " 'RajasthanTreesHumidSoutheastern2': 'SOUTH EASTERN HUMID PLAIN', \n",
    " 'RajasthanTreesUdaipur': 'SOUTHERN HUMID PLAIN', \n",
    " 'RajasthanTreesFloodProneEastern2': 'FLOOD PRONE EASTERN PLAIN', \n",
    " 'RajasthanTreesGanganagar1': 'IRRIGATED NORTH WESTERN PLAIN', \n",
    " 'RajasthanTreesJaisalmer1': 'ARID WESTERN PLAIN AND HYPER ARID PARTIAL IRRIGATED', \n",
    " 'RajasthanTreesSubhumidSouthernPlains2': 'SUB HUMID SOUTHERN PLAIN AND ALLUVIAL HILL', \n",
    " 'RajasthanTreesTransitionalInlandDrainage1': 'TRANSITIONAL PLAIN ZONE OF ISLAND DRAINAGE', \n",
    " 'RajasthanTreesJodhpur1': 'ARID WESTERN PLAIN AND HYPER ARID PARTIAL IRRIGATED'\n",
    "}\n",
    "\n",
    "by_zone = {}\n",
    "by_zone['TRANSITIONAL PLAIN ZONE OF LUNI BASIN'] = 0\n",
    "by_zone['SEMI ARID EASTERN PLAIN'] = 0\n",
    "for dir in dirs:\n",
    "    count = len(os.listdir(f'../Treework/filtered_imported_data/{dir}/images/default'))\n",
    "    zone = dir_to_zone[dir]\n",
    "    if zone not in by_zone:\n",
    "        by_zone[zone] = 0\n",
    "\n",
    "    by_zone[zone] += count\n",
    "\n",
    "print(len(by_zone))\n",
    "print(by_zone)"
   ]
  }
 ],
 "metadata": {
  "kernelspec": {
   "display_name": "base",
   "language": "python",
   "name": "python3"
  },
  "language_info": {
   "codemirror_mode": {
    "name": "ipython",
    "version": 3
   },
   "file_extension": ".py",
   "mimetype": "text/x-python",
   "name": "python",
   "nbconvert_exporter": "python",
   "pygments_lexer": "ipython3",
   "version": "3.12.2"
  }
 },
 "nbformat": 4,
 "nbformat_minor": 5
}
