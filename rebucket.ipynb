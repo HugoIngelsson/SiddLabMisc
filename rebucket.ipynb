{
 "cells": [
  {
   "cell_type": "code",
   "execution_count": 3,
   "metadata": {},
   "outputs": [],
   "source": [
    "import shutil\n",
    "import os\n",
    "import random"
   ]
  },
  {
   "cell_type": "code",
   "execution_count": 2,
   "metadata": {},
   "outputs": [
    {
     "name": "stdout",
     "output_type": "stream",
     "text": [
      "2964\n"
     ]
    }
   ],
   "source": [
    "from_dir = './NUTMGS/extra_karnataka/fill/'\n",
    "print(len(os.listdir(from_dir)))"
   ]
  },
  {
   "cell_type": "code",
   "execution_count": 6,
   "metadata": {},
   "outputs": [],
   "source": [
    "for i in range(3):\n",
    "    os.makedirs(f'./NUTMGS/extra_karnataka/karn_{i}', exist_ok=True)\n",
    "\n",
    "for dir in os.listdir(from_dir):\n",
    "    i = int(random.random() * 3)\n",
    "    to_dir = f'./NUTMGS/extra_karnataka/karn_{i}'\n",
    "\n",
    "    shutil.copy(os.path.join(from_dir, dir), os.path.join(to_dir, dir))\n"
   ]
  }
 ],
 "metadata": {
  "kernelspec": {
   "display_name": "base",
   "language": "python",
   "name": "python3"
  },
  "language_info": {
   "codemirror_mode": {
    "name": "ipython",
    "version": 3
   },
   "file_extension": ".py",
   "mimetype": "text/x-python",
   "name": "python",
   "nbconvert_exporter": "python",
   "pygments_lexer": "ipython3",
   "version": "3.12.2"
  }
 },
 "nbformat": 4,
 "nbformat_minor": 2
}
